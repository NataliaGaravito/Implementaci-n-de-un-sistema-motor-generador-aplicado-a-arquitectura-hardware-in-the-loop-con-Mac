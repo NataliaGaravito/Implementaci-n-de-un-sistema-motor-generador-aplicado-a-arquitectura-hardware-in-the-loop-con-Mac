{
  "nbformat": 4,
  "nbformat_minor": 0,
  "metadata": {
    "colab": {
      "name": "M-G PID con autorregresores",
      "provenance": [],
      "collapsed_sections": [],
      "authorship_tag": "ABX9TyPZFC+J1ELUQdMsS3+EnGzG",
      "include_colab_link": true
    },
    "kernelspec": {
      "name": "python3",
      "display_name": "Python 3"
    }
  },
  "cells": [
    {
      "cell_type": "markdown",
      "metadata": {
        "id": "view-in-github",
        "colab_type": "text"
      },
      "source": [
        "<a href=\"https://colab.research.google.com/github/NataliaGaravito/sistema-motor-generador-aplicado-a-Hardware-In-the-Loop-con-Machine-Learning/blob/main/HIL_entrenamiento_ANN.ipynb\" target=\"_parent\"><img src=\"https://colab.research.google.com/assets/colab-badge.svg\" alt=\"Open In Colab\"/></a>"
      ]
    },
    {
      "cell_type": "code",
      "metadata": {
        "id": "WeqoLTgp-wWp"
      },
      "source": [
        "from google.colab import files\n",
        "uploaded=files.upload()"
      ],
      "execution_count": null,
      "outputs": []
    },
    {
      "cell_type": "code",
      "metadata": {
        "id": "K_wKDqAx-4Wq"
      },
      "source": [
        "import pandas as pd\n",
        "import numpy as np\n",
        "from numpy import  delete\n",
        "import sklearn\n",
        "from sklearn import  preprocessing\n",
        "from sklearn.utils import shuffle\n",
        "from sklearn.neural_network import MLPRegressor\n",
        "from matplotlib import pyplot as plt\n",
        "from sklearn.metrics import  mean_squared_error\n",
        "from sklearn import linear_model"
      ],
      "execution_count": null,
      "outputs": []
    },
    {
      "cell_type": "code",
      "metadata": {
        "id": "M4wA0faW-6Pe"
      },
      "source": [
        "xls=pd.ExcelFile('ppid.xls') #llamar archivo\n",
        "#print(xls.sheet_names)   #mirar nombre de las hojas de calculo\n",
        "datos=xls.parse('Hoja1')#back up de datos originales \n",
        "df=pd.DataFrame(datos)#para preprocesamiento de datos \n",
        "print (df)\n",
        "#print(df.head(1500))"
      ],
      "execution_count": null,
      "outputs": []
    },
    {
      "cell_type": "code",
      "metadata": {
        "id": "a0j1MAXB-8A3"
      },
      "source": [
        "max=pd.Series.max(df)\n",
        "print(max)\n",
        "min=pd.Series.min(df)\n",
        "print(min)"
      ],
      "execution_count": null,
      "outputs": []
    },
    {
      "cell_type": "code",
      "metadata": {
        "id": "3HVRwzRN--0B"
      },
      "source": [
        "scaler = preprocessing.MinMaxScaler()\n",
        "dfn = scaler.fit_transform(df)\n",
        "df=pd.DataFrame(dfn)#convertir \"tabla\" otra vez\n",
        "df.columns=['PWM1', 'PWM11', 'PWM12', 'PWM13', 'PWM14','PWM15', 'RES1', 'RES11', 'RES12', 'RES13', 'RES14', 'RES15', 'V1G', 'V1G1', 'V1G2', 'V1G3'] #asignar nombre "
      ],
      "execution_count": null,
      "outputs": []
    },
    {
      "cell_type": "code",
      "metadata": {
        "id": "2FrdffcI_J_L"
      },
      "source": [
        "max=pd.Series.max(df)\n",
        "print(max)\n",
        "min=pd.Series.min(df)\n",
        "print(min)"
      ],
      "execution_count": null,
      "outputs": []
    },
    {
      "cell_type": "code",
      "metadata": {
        "id": "n6JS4ygJ_Lau"
      },
      "source": [
        "#descargar archivos normalizados\n",
        "df.to_excel('Libro2.xlsx',index=False)"
      ],
      "execution_count": null,
      "outputs": []
    },
    {
      "cell_type": "markdown",
      "metadata": {
        "id": "JJKFCfqM_M1m"
      },
      "source": [
        "## **eliminacion outliers**"
      ]
    },
    {
      "cell_type": "markdown",
      "metadata": {
        "id": "11Y-yBQi_bAg"
      },
      "source": [
        "grafica cajas y bigotes"
      ]
    },
    {
      "cell_type": "code",
      "metadata": {
        "id": "yvrlHZB9_fbd"
      },
      "source": [
        "df.boxplot(return_type='dict') #grafica de cajas y bigotes (outliers)\n",
        "plt.show()"
      ],
      "execution_count": null,
      "outputs": []
    },
    {
      "cell_type": "markdown",
      "metadata": {
        "id": "SUbrYBuA_g9i"
      },
      "source": [
        "metodo 3 sigma/ eliminacion de filas"
      ]
    },
    {
      "cell_type": "code",
      "metadata": {
        "id": "BojoWL7Y_iqo"
      },
      "source": [
        "print(len(df))\n",
        "for i in range(11):#numero de columnas\n",
        "  dk=np.array(df)\n",
        "  coms=dk[:,i]>((np.mean(dk[:,i]))+(3*(np.std(dk[:,i]))))#formula para sigma 3 valores superiores\n",
        "  comi=dk[:,i]<((np.mean(dk[:,i]))-(3*(np.std(dk[:,i]))))#formula para sigma 3 valores inferiores\n",
        "  df.drop(df.index[coms|comi], inplace=True)#eliminar valores fuera de sigma\n",
        "print(df)"
      ],
      "execution_count": null,
      "outputs": []
    },
    {
      "cell_type": "markdown",
      "metadata": {
        "id": "NnF_TfMk_klF"
      },
      "source": [
        "eliminacion de columnas"
      ]
    },
    {
      "cell_type": "code",
      "metadata": {
        "id": "waRo5zvJ_ncd"
      },
      "source": [
        "#correlacion entre columnas\n",
        "df.corr(method='pearson')"
      ],
      "execution_count": null,
      "outputs": []
    },
    {
      "cell_type": "code",
      "metadata": {
        "id": "X8x-a2rl1DJS"
      },
      "source": [
        "#datos eliminados con poca correlacion\n",
        "del df['PWM14']\n",
        "del df['PWM15']\n",
        "del df['RES14']\n",
        "del df['RES15']\n",
        "del df['V1G3']\n",
        "del df['V1G2']"
      ],
      "execution_count": null,
      "outputs": []
    },
    {
      "cell_type": "code",
      "metadata": {
        "id": "4AVN-9wg_pGZ"
      },
      "source": [
        "#dividir datos de entradas y salidas \n",
        "X=np.array(df.drop(['V1G'],axis=1))#entradas/se eliminan las salidas \n",
        "Y=np.array(df.drop(['PWM1', 'PWM11', 'PWM12', 'PWM13', 'RES1', 'RES11', 'RES12', 'RES13', 'V1G1'],axis=1))#salidas/se eliminan las entradas\n",
        "\n",
        "print (len(X))\n",
        "print (len(Y))\n",
        "\n",
        "#dividir datos de entrenamiento y de prueba\n",
        "x_train, x_test, y_train, y_test = sklearn.model_selection.train_test_split(X, Y, test_size=0.3)\n",
        "\n",
        "#entrenamiento de la red neuronal\n",
        "rgr=MLPRegressor(solver='lbfgs', alpha=1,activation='logistic', \n",
        "                 hidden_layer_sizes=(4), \n",
        "                 learning_rate='invscaling', max_iter=300)     \n",
        "#invscaling          adaptive        random_state=1,\n",
        "\n",
        "rgr.fit(x_train, y_train) \n",
        "rgr.get_params()"
      ],
      "execution_count": null,
      "outputs": []
    },
    {
      "cell_type": "code",
      "metadata": {
        "id": "iQt9Dzoq_sJi"
      },
      "source": [
        "mp=[coef.shape for coef in rgr.coefs_] #matrices de peso de los parametros del modelo\n",
        "res=rgr.predict(x_test) #resultado de la prediccion\n",
        "sco=rgr.score(x_test,y_test) # puntuacion de exactitud del resultado de la prediccion\n",
        "error=mean_squared_error(res, y_test, squared=False)#MSE=>squared=True / RMSE=>squares=False\n",
        "\n",
        "peso=rgr.coefs_ #matriz peso de las neuronas\n",
        "inpeso=rgr.intercepts_ #vector peso de neurona vacia\n",
        "\n",
        "print ('matrices ', mp,'\\n')\n",
        "#print('resultado prediccion ', res,'\\n')\n",
        "print('coeficiente prediccion ', sco,'\\n')\n",
        "print('peso coeficientes ', peso,'\\n')\n",
        "print('peso neurona vacia ', inpeso,'\\n')\n",
        "print('error', error,'\\n')"
      ],
      "execution_count": null,
      "outputs": []
    },
    {
      "cell_type": "code",
      "metadata": {
        "id": "OnctDwBq_t-f"
      },
      "source": [
        "#grafica de aprendizaje (x= # iteraciones, y= error)\n",
        "plt.figure()\n",
        "plt.subplot(211)\n",
        "plt.plot(y_test, color='orange')\n",
        "plt.xlim(5000,5050)\n",
        "plt.plot(res, color='blue')"
      ],
      "execution_count": null,
      "outputs": []
    }
  ]
}