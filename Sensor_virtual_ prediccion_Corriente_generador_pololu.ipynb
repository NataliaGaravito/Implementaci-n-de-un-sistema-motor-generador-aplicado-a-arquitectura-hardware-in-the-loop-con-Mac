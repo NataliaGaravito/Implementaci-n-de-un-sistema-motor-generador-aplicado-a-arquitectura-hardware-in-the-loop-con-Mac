{
  "nbformat": 4,
  "nbformat_minor": 0,
  "metadata": {
    "colab": {
      "name": "mg1-i",
      "provenance": [],
      "collapsed_sections": [],
      "authorship_tag": "ABX9TyPdxnRPX/6TP/QI7qAToLuo",
      "include_colab_link": true
    },
    "kernelspec": {
      "display_name": "Python 3",
      "name": "python3"
    }
  },
  "cells": [
    {
      "cell_type": "markdown",
      "metadata": {
        "id": "view-in-github",
        "colab_type": "text"
      },
      "source": [
        "<a href=\"https://colab.research.google.com/github/NataliaGaravito/sistema-motor-generador-aplicado-a-Hardware-In-the-Loop-con-Machine-Learning/blob/main/Sensor_virtual_%20prediccion_Corriente_generador_pololu.ipynb\" target=\"_parent\"><img src=\"https://colab.research.google.com/assets/colab-badge.svg\" alt=\"Open In Colab\"/></a>"
      ]
    },
    {
      "cell_type": "code",
      "metadata": {
        "id": "vUfpgEi9FG1l"
      },
      "source": [
        "from google.colab import files\n",
        "uploaded=files.upload() #llamar archivo con las muestras de datos"
      ],
      "execution_count": null,
      "outputs": []
    },
    {
      "cell_type": "code",
      "metadata": {
        "id": "_lyfjziMHJIj"
      },
      "source": [
        "import pandas as pd\n",
        "import numpy as np\n",
        "from numpy import  delete\n",
        "import sklearn\n",
        "from sklearn import  preprocessing\n",
        "from sklearn.utils import shuffle\n",
        "from sklearn.neural_network import MLPRegressor\n",
        "from matplotlib import pyplot as plt\n",
        "from sklearn.metrics import  mean_squared_error"
      ],
      "execution_count": null,
      "outputs": []
    },
    {
      "cell_type": "code",
      "metadata": {
        "id": "yVIhSnlPHLPB"
      },
      "source": [
        "xls=pd.ExcelFile('pi.xls') #llamar archivo\n",
        "#print(xls.sheet_names)   #mirar nombre de las hojas de calculo\n",
        "datos=xls.parse('Hoja1')#back up de datos originales \n",
        "df=pd.DataFrame(datos)#para preprocesamiento de datos \n",
        "print (df)\n",
        "#print(df.head(1500))"
      ],
      "execution_count": null,
      "outputs": []
    },
    {
      "cell_type": "code",
      "metadata": {
        "id": "uazlo3J2HN1V"
      },
      "source": [
        "#observar los valores maximos y minimos de cada variable para normalizacion en \n",
        "#sistema embebido\n",
        "max=pd.Series.max(df)\n",
        "print(max)\n",
        "min=pd.Series.min(df)\n",
        "print(min)"
      ],
      "execution_count": null,
      "outputs": []
    },
    {
      "cell_type": "code",
      "metadata": {
        "id": "dw06Sq8BHOq3"
      },
      "source": [
        "#normalizaciond e datos\n",
        "scaler = preprocessing.MinMaxScaler()\n",
        "dfn = scaler.fit_transform(df) \n",
        "df=pd.DataFrame(dfn)#convertir \"tabla\" otra vez\n",
        "df.columns=['PWM1', 'PWM2', 'EN1M', 'EN1G', 'EN2M', 'EN2G', 'I1M', 'I1G', 'I2M', 'I2G', 'V1M', 'V1G', 'V2M', 'V2G', 'RES1', 'RES2', 'I1G1', 'I1G2', 'I1G3', 'I2G1', 'I2G2', 'I2G3'] #asignar nombre columnas\n"
      ],
      "execution_count": null,
      "outputs": []
    },
    {
      "cell_type": "code",
      "metadata": {
        "id": "D10VanQFU9cm"
      },
      "source": [
        "#descargar archivos normalizados\n",
        "df.to_excel('Libro2.xlsx',index=False)"
      ],
      "execution_count": null,
      "outputs": []
    },
    {
      "cell_type": "code",
      "metadata": {
        "id": "7Y8FrvAwHQVD"
      },
      "source": [
        "#eliminacion de columnas que no usamos \n",
        "del df['PWM2']\n",
        "del df['EN2M']\n",
        "del df['EN2G']\n",
        "del df['I2M']\n",
        "del df['I2G']\n",
        "del df['V2M']\n",
        "del df['V2G']\n",
        "del df['RES2']\n",
        "del df['I2G1']\n",
        "del df['I2G2']\n",
        "del df['I2G3']\n",
        "print (df)"
      ],
      "execution_count": null,
      "outputs": []
    },
    {
      "cell_type": "markdown",
      "metadata": {
        "id": "OYjARP2hHVRL"
      },
      "source": [
        "# **eliminacion de outliers**"
      ]
    },
    {
      "cell_type": "markdown",
      "metadata": {
        "id": "gsCpryJ9HYcG"
      },
      "source": [
        "grafica cajas y bigotes"
      ]
    },
    {
      "cell_type": "code",
      "metadata": {
        "id": "Zk-rogSoHbLL"
      },
      "source": [
        "df.boxplot(return_type='dict') #grafica de cajas y bigotes (outliers)\n",
        "plt.show()"
      ],
      "execution_count": null,
      "outputs": []
    },
    {
      "cell_type": "markdown",
      "metadata": {
        "id": "1_0BDZI2Hcgo"
      },
      "source": [
        "metodo 3 sigma/eliminacion de filas"
      ]
    },
    {
      "cell_type": "code",
      "metadata": {
        "id": "SUefa3IqHe1B"
      },
      "source": [
        "print(len(df))\n",
        "for i in range(11):#numero de columnas\n",
        "  dk=np.array(df)\n",
        "  coms=dk[:,i]>((np.mean(dk[:,i]))+(3*(np.std(dk[:,i]))))#formula para sigma 3 valores superiores\n",
        "  comi=dk[:,i]<((np.mean(dk[:,i]))-(3*(np.std(dk[:,i]))))#formula para sigma 3 valores inferiores\n",
        "  df.drop(df.index[coms|comi], inplace=True)#eliminar valores fuera de sigma\n",
        "print(df)"
      ],
      "execution_count": null,
      "outputs": []
    },
    {
      "cell_type": "markdown",
      "metadata": {
        "id": "jK4ZujO9HhuV"
      },
      "source": [
        "eliminacion de columnas"
      ]
    },
    {
      "cell_type": "code",
      "metadata": {
        "id": "aVv67cSPHgpB"
      },
      "source": [
        "#correlacion entre columnas\n",
        "df.corr(method='pearson')"
      ],
      "execution_count": null,
      "outputs": []
    },
    {
      "cell_type": "code",
      "metadata": {
        "id": "G5ugqnqdHna_"
      },
      "source": [
        "#dividir datos de entradas y salidas \n",
        "X=np.array(df.drop(['I1G'],axis=1))#entradas/se eliminan las salidas \n",
        "Y=np.array(df.drop(['PWM1', 'EN1M', 'EN1G', 'I1M', 'V1M', 'V1G', 'RES1', 'I1G1', 'I1G2', 'I1G3'],axis=1))#salidas/se eliminan las entradas\n",
        "\n",
        "print (len(X))\n",
        "print (len(Y))\n",
        "\n",
        "#dividir datos de entrenamiento y de prueba\n",
        "x_train, x_test, y_train, y_test = sklearn.model_selection.train_test_split(X, Y, test_size=0.3)\n",
        "\n",
        "#entrenamiento de la red neuronal\n",
        "rgr=MLPRegressor(solver='lbfgs', alpha=0.1,activation='logistic', \n",
        "                 hidden_layer_sizes=(6),  \n",
        "                 learning_rate='invscaling', max_iter=500)                    \n",
        "#invscaling          adaptive        random_state=1,\n",
        "rgr.fit(x_train, y_train) \n",
        "rgr.get_params()"
      ],
      "execution_count": null,
      "outputs": []
    },
    {
      "cell_type": "code",
      "metadata": {
        "id": "D7O9nOhwHpbB"
      },
      "source": [
        "mp=[coef.shape for coef in rgr.coefs_] #matrices de peso de los parametros del modelo\n",
        "res=rgr.predict(x_test) #resultado de la prediccion\n",
        "sco=rgr.score(x_test,y_test) # puntuacion de exactitud del resultado de la prediccion\n",
        "error=mean_squared_error(res, y_test, squared=False)#MSE=>squared=True / RMSE=>squares=False\n",
        "\n",
        "peso=rgr.coefs_ #matriz peso de las neuronas\n",
        "inpeso=rgr.intercepts_ #vector peso de neurona vacia\n",
        "\n",
        "print ('matrices ', mp,'\\n')\n",
        "#print('resultado prediccion ', res,'\\n')\n",
        "print('coeficiente prediccion ', sco,'\\n')\n",
        "print('peso coeficientes ', peso,'\\n')\n",
        "print('peso neurona vacia ', inpeso,'\\n')\n",
        "print('error', error,'\\n')"
      ],
      "execution_count": null,
      "outputs": []
    },
    {
      "cell_type": "code",
      "metadata": {
        "id": "wtQ2ycUKHspv"
      },
      "source": [
        "#grafica de aprendizaje (x= # iteraciones, y= error)\n",
        "plt.figure()\n",
        "plt.subplot(211)\n",
        "plt.plot(y_test, color='orange')\n",
        "plt.xlim(4000,4050)\n",
        "plt.plot(res, color='blue')\n",
        "print(res)"
      ],
      "execution_count": null,
      "outputs": []
    }
  ]
}