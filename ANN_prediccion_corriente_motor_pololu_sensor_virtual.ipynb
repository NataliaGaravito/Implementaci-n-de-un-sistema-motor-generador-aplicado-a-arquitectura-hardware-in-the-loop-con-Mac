{
  "nbformat": 4,
  "nbformat_minor": 0,
  "metadata": {
    "colab": {
      "name": "mg1-i",
      "provenance": [],
      "collapsed_sections": [],
      "authorship_tag": "ABX9TyNF4ODQbN+EkqAU013W7lWb",
      "include_colab_link": true
    },
    "kernelspec": {
      "display_name": "Python 3",
      "name": "python3"
    }
  },
  "cells": [
    {
      "cell_type": "markdown",
      "metadata": {
        "id": "view-in-github",
        "colab_type": "text"
      },
      "source": [
        "<a href=\"https://colab.research.google.com/github/NataliaGaravito/sistema-motor-generador-aplicado-a-Hardware-In-the-Loop-con-Machine-Learning/blob/main/ANN_prediccion_corriente_motor_pololu_sensor_virtual.ipynb\" target=\"_parent\"><img src=\"https://colab.research.google.com/assets/colab-badge.svg\" alt=\"Open In Colab\"/></a>"
      ]
    },
    {
      "cell_type": "code",
      "metadata": {
        "colab": {
          "resources": {
            "http://localhost:8080/nbextensions/google.colab/files.js": {
              "data": "Ly8gQ29weXJpZ2h0IDIwMTcgR29vZ2xlIExMQwovLwovLyBMaWNlbnNlZCB1bmRlciB0aGUgQXBhY2hlIExpY2Vuc2UsIFZlcnNpb24gMi4wICh0aGUgIkxpY2Vuc2UiKTsKLy8geW91IG1heSBub3QgdXNlIHRoaXMgZmlsZSBleGNlcHQgaW4gY29tcGxpYW5jZSB3aXRoIHRoZSBMaWNlbnNlLgovLyBZb3UgbWF5IG9idGFpbiBhIGNvcHkgb2YgdGhlIExpY2Vuc2UgYXQKLy8KLy8gICAgICBodHRwOi8vd3d3LmFwYWNoZS5vcmcvbGljZW5zZXMvTElDRU5TRS0yLjAKLy8KLy8gVW5sZXNzIHJlcXVpcmVkIGJ5IGFwcGxpY2FibGUgbGF3IG9yIGFncmVlZCB0byBpbiB3cml0aW5nLCBzb2Z0d2FyZQovLyBkaXN0cmlidXRlZCB1bmRlciB0aGUgTGljZW5zZSBpcyBkaXN0cmlidXRlZCBvbiBhbiAiQVMgSVMiIEJBU0lTLAovLyBXSVRIT1VUIFdBUlJBTlRJRVMgT1IgQ09ORElUSU9OUyBPRiBBTlkgS0lORCwgZWl0aGVyIGV4cHJlc3Mgb3IgaW1wbGllZC4KLy8gU2VlIHRoZSBMaWNlbnNlIGZvciB0aGUgc3BlY2lmaWMgbGFuZ3VhZ2UgZ292ZXJuaW5nIHBlcm1pc3Npb25zIGFuZAovLyBsaW1pdGF0aW9ucyB1bmRlciB0aGUgTGljZW5zZS4KCi8qKgogKiBAZmlsZW92ZXJ2aWV3IEhlbHBlcnMgZm9yIGdvb2dsZS5jb2xhYiBQeXRob24gbW9kdWxlLgogKi8KKGZ1bmN0aW9uKHNjb3BlKSB7CmZ1bmN0aW9uIHNwYW4odGV4dCwgc3R5bGVBdHRyaWJ1dGVzID0ge30pIHsKICBjb25zdCBlbGVtZW50ID0gZG9jdW1lbnQuY3JlYXRlRWxlbWVudCgnc3BhbicpOwogIGVsZW1lbnQudGV4dENvbnRlbnQgPSB0ZXh0OwogIGZvciAoY29uc3Qga2V5IG9mIE9iamVjdC5rZXlzKHN0eWxlQXR0cmlidXRlcykpIHsKICAgIGVsZW1lbnQuc3R5bGVba2V5XSA9IHN0eWxlQXR0cmlidXRlc1trZXldOwogIH0KICByZXR1cm4gZWxlbWVudDsKfQoKLy8gTWF4IG51bWJlciBvZiBieXRlcyB3aGljaCB3aWxsIGJlIHVwbG9hZGVkIGF0IGEgdGltZS4KY29uc3QgTUFYX1BBWUxPQURfU0laRSA9IDEwMCAqIDEwMjQ7CgpmdW5jdGlvbiBfdXBsb2FkRmlsZXMoaW5wdXRJZCwgb3V0cHV0SWQpIHsKICBjb25zdCBzdGVwcyA9IHVwbG9hZEZpbGVzU3RlcChpbnB1dElkLCBvdXRwdXRJZCk7CiAgY29uc3Qgb3V0cHV0RWxlbWVudCA9IGRvY3VtZW50LmdldEVsZW1lbnRCeUlkKG91dHB1dElkKTsKICAvLyBDYWNoZSBzdGVwcyBvbiB0aGUgb3V0cHV0RWxlbWVudCB0byBtYWtlIGl0IGF2YWlsYWJsZSBmb3IgdGhlIG5leHQgY2FsbAogIC8vIHRvIHVwbG9hZEZpbGVzQ29udGludWUgZnJvbSBQeXRob24uCiAgb3V0cHV0RWxlbWVudC5zdGVwcyA9IHN0ZXBzOwoKICByZXR1cm4gX3VwbG9hZEZpbGVzQ29udGludWUob3V0cHV0SWQpOwp9CgovLyBUaGlzIGlzIHJvdWdobHkgYW4gYXN5bmMgZ2VuZXJhdG9yIChub3Qgc3VwcG9ydGVkIGluIHRoZSBicm93c2VyIHlldCksCi8vIHdoZXJlIHRoZXJlIGFyZSBtdWx0aXBsZSBhc3luY2hyb25vdXMgc3RlcHMgYW5kIHRoZSBQeXRob24gc2lkZSBpcyBnb2luZwovLyB0byBwb2xsIGZvciBjb21wbGV0aW9uIG9mIGVhY2ggc3RlcC4KLy8gVGhpcyB1c2VzIGEgUHJvbWlzZSB0byBibG9jayB0aGUgcHl0aG9uIHNpZGUgb24gY29tcGxldGlvbiBvZiBlYWNoIHN0ZXAsCi8vIHRoZW4gcGFzc2VzIHRoZSByZXN1bHQgb2YgdGhlIHByZXZpb3VzIHN0ZXAgYXMgdGhlIGlucHV0IHRvIHRoZSBuZXh0IHN0ZXAuCmZ1bmN0aW9uIF91cGxvYWRGaWxlc0NvbnRpbnVlKG91dHB1dElkKSB7CiAgY29uc3Qgb3V0cHV0RWxlbWVudCA9IGRvY3VtZW50LmdldEVsZW1lbnRCeUlkKG91dHB1dElkKTsKICBjb25zdCBzdGVwcyA9IG91dHB1dEVsZW1lbnQuc3RlcHM7CgogIGNvbnN0IG5leHQgPSBzdGVwcy5uZXh0KG91dHB1dEVsZW1lbnQubGFzdFByb21pc2VWYWx1ZSk7CiAgcmV0dXJuIFByb21pc2UucmVzb2x2ZShuZXh0LnZhbHVlLnByb21pc2UpLnRoZW4oKHZhbHVlKSA9PiB7CiAgICAvLyBDYWNoZSB0aGUgbGFzdCBwcm9taXNlIHZhbHVlIHRvIG1ha2UgaXQgYXZhaWxhYmxlIHRvIHRoZSBuZXh0CiAgICAvLyBzdGVwIG9mIHRoZSBnZW5lcmF0b3IuCiAgICBvdXRwdXRFbGVtZW50Lmxhc3RQcm9taXNlVmFsdWUgPSB2YWx1ZTsKICAgIHJldHVybiBuZXh0LnZhbHVlLnJlc3BvbnNlOwogIH0pOwp9CgovKioKICogR2VuZXJhdG9yIGZ1bmN0aW9uIHdoaWNoIGlzIGNhbGxlZCBiZXR3ZWVuIGVhY2ggYXN5bmMgc3RlcCBvZiB0aGUgdXBsb2FkCiAqIHByb2Nlc3MuCiAqIEBwYXJhbSB7c3RyaW5nfSBpbnB1dElkIEVsZW1lbnQgSUQgb2YgdGhlIGlucHV0IGZpbGUgcGlja2VyIGVsZW1lbnQuCiAqIEBwYXJhbSB7c3RyaW5nfSBvdXRwdXRJZCBFbGVtZW50IElEIG9mIHRoZSBvdXRwdXQgZGlzcGxheS4KICogQHJldHVybiB7IUl0ZXJhYmxlPCFPYmplY3Q+fSBJdGVyYWJsZSBvZiBuZXh0IHN0ZXBzLgogKi8KZnVuY3Rpb24qIHVwbG9hZEZpbGVzU3RlcChpbnB1dElkLCBvdXRwdXRJZCkgewogIGNvbnN0IGlucHV0RWxlbWVudCA9IGRvY3VtZW50LmdldEVsZW1lbnRCeUlkKGlucHV0SWQpOwogIGlucHV0RWxlbWVudC5kaXNhYmxlZCA9IGZhbHNlOwoKICBjb25zdCBvdXRwdXRFbGVtZW50ID0gZG9jdW1lbnQuZ2V0RWxlbWVudEJ5SWQob3V0cHV0SWQpOwogIG91dHB1dEVsZW1lbnQuaW5uZXJIVE1MID0gJyc7CgogIGNvbnN0IHBpY2tlZFByb21pc2UgPSBuZXcgUHJvbWlzZSgocmVzb2x2ZSkgPT4gewogICAgaW5wdXRFbGVtZW50LmFkZEV2ZW50TGlzdGVuZXIoJ2NoYW5nZScsIChlKSA9PiB7CiAgICAgIHJlc29sdmUoZS50YXJnZXQuZmlsZXMpOwogICAgfSk7CiAgfSk7CgogIGNvbnN0IGNhbmNlbCA9IGRvY3VtZW50LmNyZWF0ZUVsZW1lbnQoJ2J1dHRvbicpOwogIGlucHV0RWxlbWVudC5wYXJlbnRFbGVtZW50LmFwcGVuZENoaWxkKGNhbmNlbCk7CiAgY2FuY2VsLnRleHRDb250ZW50ID0gJ0NhbmNlbCB1cGxvYWQnOwogIGNvbnN0IGNhbmNlbFByb21pc2UgPSBuZXcgUHJvbWlzZSgocmVzb2x2ZSkgPT4gewogICAgY2FuY2VsLm9uY2xpY2sgPSAoKSA9PiB7CiAgICAgIHJlc29sdmUobnVsbCk7CiAgICB9OwogIH0pOwoKICAvLyBXYWl0IGZvciB0aGUgdXNlciB0byBwaWNrIHRoZSBmaWxlcy4KICBjb25zdCBmaWxlcyA9IHlpZWxkIHsKICAgIHByb21pc2U6IFByb21pc2UucmFjZShbcGlja2VkUHJvbWlzZSwgY2FuY2VsUHJvbWlzZV0pLAogICAgcmVzcG9uc2U6IHsKICAgICAgYWN0aW9uOiAnc3RhcnRpbmcnLAogICAgfQogIH07CgogIGNhbmNlbC5yZW1vdmUoKTsKCiAgLy8gRGlzYWJsZSB0aGUgaW5wdXQgZWxlbWVudCBzaW5jZSBmdXJ0aGVyIHBpY2tzIGFyZSBub3QgYWxsb3dlZC4KICBpbnB1dEVsZW1lbnQuZGlzYWJsZWQgPSB0cnVlOwoKICBpZiAoIWZpbGVzKSB7CiAgICByZXR1cm4gewogICAgICByZXNwb25zZTogewogICAgICAgIGFjdGlvbjogJ2NvbXBsZXRlJywKICAgICAgfQogICAgfTsKICB9CgogIGZvciAoY29uc3QgZmlsZSBvZiBmaWxlcykgewogICAgY29uc3QgbGkgPSBkb2N1bWVudC5jcmVhdGVFbGVtZW50KCdsaScpOwogICAgbGkuYXBwZW5kKHNwYW4oZmlsZS5uYW1lLCB7Zm9udFdlaWdodDogJ2JvbGQnfSkpOwogICAgbGkuYXBwZW5kKHNwYW4oCiAgICAgICAgYCgke2ZpbGUudHlwZSB8fCAnbi9hJ30pIC0gJHtmaWxlLnNpemV9IGJ5dGVzLCBgICsKICAgICAgICBgbGFzdCBtb2RpZmllZDogJHsKICAgICAgICAgICAgZmlsZS5sYXN0TW9kaWZpZWREYXRlID8gZmlsZS5sYXN0TW9kaWZpZWREYXRlLnRvTG9jYWxlRGF0ZVN0cmluZygpIDoKICAgICAgICAgICAgICAgICAgICAgICAgICAgICAgICAgICAgJ24vYSd9IC0gYCkpOwogICAgY29uc3QgcGVyY2VudCA9IHNwYW4oJzAlIGRvbmUnKTsKICAgIGxpLmFwcGVuZENoaWxkKHBlcmNlbnQpOwoKICAgIG91dHB1dEVsZW1lbnQuYXBwZW5kQ2hpbGQobGkpOwoKICAgIGNvbnN0IGZpbGVEYXRhUHJvbWlzZSA9IG5ldyBQcm9taXNlKChyZXNvbHZlKSA9PiB7CiAgICAgIGNvbnN0IHJlYWRlciA9IG5ldyBGaWxlUmVhZGVyKCk7CiAgICAgIHJlYWRlci5vbmxvYWQgPSAoZSkgPT4gewogICAgICAgIHJlc29sdmUoZS50YXJnZXQucmVzdWx0KTsKICAgICAgfTsKICAgICAgcmVhZGVyLnJlYWRBc0FycmF5QnVmZmVyKGZpbGUpOwogICAgfSk7CiAgICAvLyBXYWl0IGZvciB0aGUgZGF0YSB0byBiZSByZWFkeS4KICAgIGxldCBmaWxlRGF0YSA9IHlpZWxkIHsKICAgICAgcHJvbWlzZTogZmlsZURhdGFQcm9taXNlLAogICAgICByZXNwb25zZTogewogICAgICAgIGFjdGlvbjogJ2NvbnRpbnVlJywKICAgICAgfQogICAgfTsKCiAgICAvLyBVc2UgYSBjaHVua2VkIHNlbmRpbmcgdG8gYXZvaWQgbWVzc2FnZSBzaXplIGxpbWl0cy4gU2VlIGIvNjIxMTU2NjAuCiAgICBsZXQgcG9zaXRpb24gPSAwOwogICAgd2hpbGUgKHBvc2l0aW9uIDwgZmlsZURhdGEuYnl0ZUxlbmd0aCkgewogICAgICBjb25zdCBsZW5ndGggPSBNYXRoLm1pbihmaWxlRGF0YS5ieXRlTGVuZ3RoIC0gcG9zaXRpb24sIE1BWF9QQVlMT0FEX1NJWkUpOwogICAgICBjb25zdCBjaHVuayA9IG5ldyBVaW50OEFycmF5KGZpbGVEYXRhLCBwb3NpdGlvbiwgbGVuZ3RoKTsKICAgICAgcG9zaXRpb24gKz0gbGVuZ3RoOwoKICAgICAgY29uc3QgYmFzZTY0ID0gYnRvYShTdHJpbmcuZnJvbUNoYXJDb2RlLmFwcGx5KG51bGwsIGNodW5rKSk7CiAgICAgIHlpZWxkIHsKICAgICAgICByZXNwb25zZTogewogICAgICAgICAgYWN0aW9uOiAnYXBwZW5kJywKICAgICAgICAgIGZpbGU6IGZpbGUubmFtZSwKICAgICAgICAgIGRhdGE6IGJhc2U2NCwKICAgICAgICB9LAogICAgICB9OwogICAgICBwZXJjZW50LnRleHRDb250ZW50ID0KICAgICAgICAgIGAke01hdGgucm91bmQoKHBvc2l0aW9uIC8gZmlsZURhdGEuYnl0ZUxlbmd0aCkgKiAxMDApfSUgZG9uZWA7CiAgICB9CiAgfQoKICAvLyBBbGwgZG9uZS4KICB5aWVsZCB7CiAgICByZXNwb25zZTogewogICAgICBhY3Rpb246ICdjb21wbGV0ZScsCiAgICB9CiAgfTsKfQoKc2NvcGUuZ29vZ2xlID0gc2NvcGUuZ29vZ2xlIHx8IHt9OwpzY29wZS5nb29nbGUuY29sYWIgPSBzY29wZS5nb29nbGUuY29sYWIgfHwge307CnNjb3BlLmdvb2dsZS5jb2xhYi5fZmlsZXMgPSB7CiAgX3VwbG9hZEZpbGVzLAogIF91cGxvYWRGaWxlc0NvbnRpbnVlLAp9Owp9KShzZWxmKTsK",
              "ok": true,
              "headers": [
                [
                  "content-type",
                  "application/javascript"
                ]
              ],
              "status": 200,
              "status_text": ""
            }
          },
          "base_uri": "https://localhost:8080/",
          "height": 72
        },
        "id": "vUfpgEi9FG1l",
        "outputId": "8c0b69e7-f4bb-4273-98fe-4b34ce19c263"
      },
      "source": [
        "from google.colab import files\n",
        "uploaded=files.upload()"
      ],
      "execution_count": null,
      "outputs": [
        {
          "output_type": "display_data",
          "data": {
            "text/html": [
              "\n",
              "     <input type=\"file\" id=\"files-f2661e4c-f266-403e-8729-ca735daee91f\" name=\"files[]\" multiple disabled\n",
              "        style=\"border:none\" />\n",
              "     <output id=\"result-f2661e4c-f266-403e-8729-ca735daee91f\">\n",
              "      Upload widget is only available when the cell has been executed in the\n",
              "      current browser session. Please rerun this cell to enable.\n",
              "      </output>\n",
              "      <script src=\"/nbextensions/google.colab/files.js\"></script> "
            ],
            "text/plain": [
              "<IPython.core.display.HTML object>"
            ]
          },
          "metadata": {
            "tags": []
          }
        },
        {
          "output_type": "stream",
          "text": [
            "Saving pi.xls to pi.xls\n"
          ],
          "name": "stdout"
        }
      ]
    },
    {
      "cell_type": "code",
      "metadata": {
        "id": "_lyfjziMHJIj"
      },
      "source": [
        "import pandas as pd\n",
        "import numpy as np\n",
        "from numpy import  delete\n",
        "import sklearn\n",
        "from sklearn import  preprocessing\n",
        "from sklearn.utils import shuffle\n",
        "from sklearn.neural_network import MLPRegressor\n",
        "from matplotlib import pyplot as plt\n",
        "from sklearn.metrics import  mean_squared_error"
      ],
      "execution_count": null,
      "outputs": []
    },
    {
      "cell_type": "code",
      "metadata": {
        "colab": {
          "base_uri": "https://localhost:8080/"
        },
        "id": "yVIhSnlPHLPB",
        "outputId": "dede04fa-6110-451b-934f-569f2d1ecdd8"
      },
      "source": [
        "xls=pd.ExcelFile('pi.xls') #llamar archivo\n",
        "#print(xls.sheet_names)   #mirar nombre de las hojas de calculo\n",
        "datos=xls.parse('Hoja1')#back up de datos originales \n",
        "df=pd.DataFrame(datos)#para preprocesamiento de datos \n",
        "print (df)\n",
        "#print(df.head(1500))"
      ],
      "execution_count": null,
      "outputs": [
        {
          "output_type": "stream",
          "text": [
            "       PWM1   PWM2   EN1M   EN1G   EN2M  ...  I1G2  I1G3  I2G1  I2G2  I2G3\n",
            "0        37     79      0      0      0  ...  60.9  60.7  74.4  59.2  16.4\n",
            "1        37     79      0      0      0  ...  56.0  60.9  59.0  74.4  59.2\n",
            "2        37     79      0      0      0  ...  54.7  56.0  67.8  59.0  74.4\n",
            "3        37     79      0      0      0  ...  50.5  54.7  62.6  67.8  59.0\n",
            "4        37     79      0      0      0  ...  54.0  50.5  68.4  62.6  67.8\n",
            "...     ...    ...    ...    ...    ...  ...   ...   ...   ...   ...   ...\n",
            "17992   194    242    436    432    152  ...  -0.8  -1.0  -0.4  -0.3  -0.2\n",
            "17993   194    242    436    432    152  ...  -0.7  -0.8 -16.3  -0.4  -0.3\n",
            "17994   194    242    436    432    152  ...  -0.8  -0.7  -0.1 -16.3  -0.4\n",
            "17995   194    242    436    432    152  ...  -0.8  -0.8  -0.2  -0.1 -16.3\n",
            "17996   194    242    452    452    148  ...  -0.8  -0.8  -0.5  -0.2  -0.1\n",
            "\n",
            "[17997 rows x 22 columns]\n"
          ],
          "name": "stdout"
        }
      ]
    },
    {
      "cell_type": "code",
      "metadata": {
        "id": "uazlo3J2HN1V"
      },
      "source": [
        "max=pd.Series.max(df)\n",
        "print(max)\n",
        "min=pd.Series.min(df)\n",
        "print(min)"
      ],
      "execution_count": null,
      "outputs": []
    },
    {
      "cell_type": "code",
      "metadata": {
        "id": "dw06Sq8BHOq3"
      },
      "source": [
        "scaler = preprocessing.MinMaxScaler()\n",
        "dfn = scaler.fit_transform(df) \n",
        "df=pd.DataFrame(dfn)#convertir \"tabla\" otra vez\n",
        "df.columns=['PWM1', 'PWM2', 'EN1M', 'EN1G', 'EN2M', 'EN2G', 'I1M', 'I1G', 'I2M', 'I2G', 'V1M', 'V1G', 'V2M', 'V2G', 'RES1', 'RES2', 'I1G1', 'I1G2', 'I1G3', 'I2G1', 'I2G2', 'I2G3'] #asignar nombre columnas\n"
      ],
      "execution_count": null,
      "outputs": []
    },
    {
      "cell_type": "code",
      "metadata": {
        "id": "D10VanQFU9cm"
      },
      "source": [
        "#descargar archivos normalizados\n",
        "df.to_excel('Libro2.xlsx',index=False)"
      ],
      "execution_count": null,
      "outputs": []
    },
    {
      "cell_type": "code",
      "metadata": {
        "colab": {
          "base_uri": "https://localhost:8080/"
        },
        "id": "7Y8FrvAwHQVD",
        "outputId": "539fe523-bdb6-4ebb-d732-1b3fd79d50fd"
      },
      "source": [
        "#eliminacion de columnas que no usamos \n",
        "del df['PWM2']\n",
        "del df['EN2M']\n",
        "del df['EN2G']\n",
        "del df['I2M']\n",
        "del df['I2G']\n",
        "del df['V2M']\n",
        "del df['V2G']\n",
        "del df['RES2']\n",
        "del df['I2G1']\n",
        "del df['I2G2']\n",
        "del df['I2G3']\n",
        "print (df)"
      ],
      "execution_count": null,
      "outputs": [
        {
          "output_type": "stream",
          "text": [
            "           PWM1      EN1M      EN1G  ...      I1G1      I1G2      I1G3\n",
            "0      0.031674  0.000000  0.000000  ...  0.088140  0.095678  0.095370\n",
            "1      0.031674  0.000000  0.000000  ...  0.086141  0.088140  0.095678\n",
            "2      0.031674  0.000000  0.000000  ...  0.079680  0.086141  0.088140\n",
            "3      0.031674  0.000000  0.000000  ...  0.085064  0.079680  0.086141\n",
            "4      0.031674  0.000000  0.000000  ...  0.084449  0.085064  0.079680\n",
            "...         ...       ...       ...  ...       ...       ...       ...\n",
            "17992  0.742081  0.344664  0.341502  ...  0.000923  0.000769  0.000461\n",
            "17993  0.742081  0.344664  0.341502  ...  0.000769  0.000923  0.000769\n",
            "17994  0.742081  0.344664  0.341502  ...  0.000769  0.000769  0.000923\n",
            "17995  0.742081  0.344664  0.341502  ...  0.000769  0.000769  0.000769\n",
            "17996  0.742081  0.357312  0.357312  ...  0.000461  0.000769  0.000769\n",
            "\n",
            "[17997 rows x 11 columns]\n"
          ],
          "name": "stdout"
        }
      ]
    },
    {
      "cell_type": "markdown",
      "metadata": {
        "id": "OYjARP2hHVRL"
      },
      "source": [
        "# **eliminacion de outliers**"
      ]
    },
    {
      "cell_type": "markdown",
      "metadata": {
        "id": "gsCpryJ9HYcG"
      },
      "source": [
        "grafica cajas y bigotes"
      ]
    },
    {
      "cell_type": "code",
      "metadata": {
        "id": "Zk-rogSoHbLL"
      },
      "source": [
        "df.boxplot(return_type='dict') #grafica de cajas y bigotes (outliers)\n",
        "plt.show()"
      ],
      "execution_count": null,
      "outputs": []
    },
    {
      "cell_type": "markdown",
      "metadata": {
        "id": "1_0BDZI2Hcgo"
      },
      "source": [
        "metodo 3 sigma/eliminacion de filas"
      ]
    },
    {
      "cell_type": "code",
      "metadata": {
        "colab": {
          "base_uri": "https://localhost:8080/"
        },
        "id": "SUefa3IqHe1B",
        "outputId": "7842e794-e18a-40c3-a7e4-05d149fed4da"
      },
      "source": [
        "print(len(df))\n",
        "for i in range(11):#numero de columnas\n",
        "  dk=np.array(df)\n",
        "  coms=dk[:,i]>((np.mean(dk[:,i]))+(3*(np.std(dk[:,i]))))#formula para sigma 3 valores superiores\n",
        "  comi=dk[:,i]<((np.mean(dk[:,i]))-(3*(np.std(dk[:,i]))))#formula para sigma 3 valores inferiores\n",
        "  df.drop(df.index[coms|comi], inplace=True)#eliminar valores fuera de sigma\n",
        "print(df)"
      ],
      "execution_count": null,
      "outputs": [
        {
          "output_type": "stream",
          "text": [
            "17997\n",
            "           PWM1      EN1M      EN1G  ...      I1G1      I1G2      I1G3\n",
            "0      0.031674  0.000000  0.000000  ...  0.088140  0.095678  0.095370\n",
            "1      0.031674  0.000000  0.000000  ...  0.086141  0.088140  0.095678\n",
            "2      0.031674  0.000000  0.000000  ...  0.079680  0.086141  0.088140\n",
            "3      0.031674  0.000000  0.000000  ...  0.085064  0.079680  0.086141\n",
            "4      0.031674  0.000000  0.000000  ...  0.084449  0.085064  0.079680\n",
            "...         ...       ...       ...  ...       ...       ...       ...\n",
            "17992  0.742081  0.344664  0.341502  ...  0.000923  0.000769  0.000461\n",
            "17993  0.742081  0.344664  0.341502  ...  0.000769  0.000923  0.000769\n",
            "17994  0.742081  0.344664  0.341502  ...  0.000769  0.000769  0.000923\n",
            "17995  0.742081  0.344664  0.341502  ...  0.000769  0.000769  0.000769\n",
            "17996  0.742081  0.357312  0.357312  ...  0.000461  0.000769  0.000769\n",
            "\n",
            "[17961 rows x 11 columns]\n"
          ],
          "name": "stdout"
        }
      ]
    },
    {
      "cell_type": "markdown",
      "metadata": {
        "id": "jK4ZujO9HhuV"
      },
      "source": [
        "eliminacion de columnas"
      ]
    },
    {
      "cell_type": "code",
      "metadata": {
        "id": "aVv67cSPHgpB"
      },
      "source": [
        "#correlacion entre columnas\n",
        "df.corr(method='pearson')"
      ],
      "execution_count": null,
      "outputs": []
    },
    {
      "cell_type": "code",
      "metadata": {
        "id": "uCwpvNr7ARMj"
      },
      "source": [
        "#eliminacion de columnas con poca correlacion con respecto a la salida\n",
        "#del df['V1M']\n",
        "#del df['RES1']\n",
        "#del df[]"
      ],
      "execution_count": null,
      "outputs": []
    },
    {
      "cell_type": "code",
      "metadata": {
        "colab": {
          "base_uri": "https://localhost:8080/"
        },
        "id": "G5ugqnqdHna_",
        "outputId": "7cdac154-8b3f-41cd-d984-fc0c388848a8"
      },
      "source": [
        "#dividir datos de entradas y salidas \n",
        "X=np.array(df.drop(['I1G'],axis=1))#entradas/se eliminan las salidas \n",
        "Y=np.array(df.drop(['PWM1', 'EN1M', 'EN1G', 'I1M', 'V1M', 'V1G', 'RES1', 'I1G1', 'I1G2', 'I1G3'],axis=1))#salidas/se eliminan las entradas\n",
        "\n",
        "print (len(X))\n",
        "print (len(Y))\n",
        "#print('---------------')\n",
        "#print (Y)\n",
        "\n",
        "#dividir datos de entrenamiento y de prueba\n",
        "x_train, x_test, y_train, y_test = sklearn.model_selection.train_test_split(X, Y, test_size=0.3)\n",
        "\n",
        "#entrenamiento de la red neuronal\n",
        "rgr=MLPRegressor(solver='lbfgs', alpha=0.1,activation='logistic', \n",
        "                 hidden_layer_sizes=(6),  \n",
        "                 learning_rate='invscaling', max_iter=500)                    \n",
        "#invscaling          adaptive        random_state=1,\n",
        "rgr.fit(x_train, y_train) \n",
        "rgr.get_params()"
      ],
      "execution_count": null,
      "outputs": [
        {
          "output_type": "stream",
          "text": [
            "17961\n",
            "17961\n"
          ],
          "name": "stdout"
        },
        {
          "output_type": "stream",
          "text": [
            "/usr/local/lib/python3.6/dist-packages/sklearn/neural_network/_multilayer_perceptron.py:1342: DataConversionWarning: A column-vector y was passed when a 1d array was expected. Please change the shape of y to (n_samples, ), for example using ravel().\n",
            "  y = column_or_1d(y, warn=True)\n"
          ],
          "name": "stderr"
        },
        {
          "output_type": "execute_result",
          "data": {
            "text/plain": [
              "{'activation': 'logistic',\n",
              " 'alpha': 0.1,\n",
              " 'batch_size': 'auto',\n",
              " 'beta_1': 0.9,\n",
              " 'beta_2': 0.999,\n",
              " 'early_stopping': False,\n",
              " 'epsilon': 1e-08,\n",
              " 'hidden_layer_sizes': 6,\n",
              " 'learning_rate': 'invscaling',\n",
              " 'learning_rate_init': 0.001,\n",
              " 'max_fun': 15000,\n",
              " 'max_iter': 500,\n",
              " 'momentum': 0.9,\n",
              " 'n_iter_no_change': 10,\n",
              " 'nesterovs_momentum': True,\n",
              " 'power_t': 0.5,\n",
              " 'random_state': None,\n",
              " 'shuffle': True,\n",
              " 'solver': 'lbfgs',\n",
              " 'tol': 0.0001,\n",
              " 'validation_fraction': 0.1,\n",
              " 'verbose': False,\n",
              " 'warm_start': False}"
            ]
          },
          "metadata": {
            "tags": []
          },
          "execution_count": 1246
        }
      ]
    },
    {
      "cell_type": "code",
      "metadata": {
        "colab": {
          "base_uri": "https://localhost:8080/"
        },
        "id": "D7O9nOhwHpbB",
        "outputId": "da63a1bb-3d50-46f1-e972-c2f91d2f4499"
      },
      "source": [
        "mp=[coef.shape for coef in rgr.coefs_] #matrices de peso de los parametros del modelo\n",
        "res=rgr.predict(x_test) #resultado de la prediccion\n",
        "sco=rgr.score(x_test,y_test) # puntuacion de exactitud del resultado de la prediccion\n",
        "error=mean_squared_error(res, y_test, squared=False)#MSE=>squared=True / RMSE=>squares=False\n",
        "\n",
        "peso=rgr.coefs_ #matriz peso de las neuronas\n",
        "inpeso=rgr.intercepts_ #vector peso de neurona vacia\n",
        "\n",
        "print ('matrices ', mp,'\\n')\n",
        "#print('resultado prediccion ', res,'\\n')\n",
        "print('coeficiente prediccion ', sco,'\\n')\n",
        "print('peso coeficientes ', peso,'\\n')\n",
        "print('peso neurona vacia ', inpeso,'\\n')\n",
        "print('error', error,'\\n')"
      ],
      "execution_count": null,
      "outputs": [
        {
          "output_type": "stream",
          "text": [
            "matrices  [(10, 6), (6, 1)] \n",
            "\n",
            "coeficiente prediccion  0.9606264216237327 \n",
            "\n",
            "peso coeficientes  [array([[ 0.10433859,  0.07615146,  0.30752148, -0.37842551, -0.28603359,\n",
            "         0.26281427],\n",
            "       [ 0.02611759, -0.0442557 ,  0.27074476,  0.21024687,  0.34993859,\n",
            "        -0.24395077],\n",
            "       [ 0.21613436, -0.17935778, -0.01416489,  0.05304785, -0.11315   ,\n",
            "         0.03063525],\n",
            "       [-0.20926019,  0.16096659,  0.06224134,  0.08137274, -0.14171729,\n",
            "         0.37267934],\n",
            "       [ 0.26710852,  0.05678658, -0.22075162, -0.1269945 ,  0.15589049,\n",
            "        -0.19908153],\n",
            "       [-0.32469995,  0.18027679,  0.07767284,  0.46223136, -0.23437649,\n",
            "        -0.26049152],\n",
            "       [ 0.07638786, -0.01203665,  0.18285504,  0.38721025, -0.11642481,\n",
            "         0.36318586],\n",
            "       [-0.27976162, -0.0887764 ,  0.85897466, -0.71028213,  0.17607334,\n",
            "         0.46972637],\n",
            "       [ 0.31047586, -0.43326161,  0.2170249 , -0.25924324,  0.3417878 ,\n",
            "         0.45916226],\n",
            "       [ 0.02029994, -0.68222511,  0.41072451, -0.35316739,  0.34135534,\n",
            "         0.11827475]]), array([[ 0.15030452],\n",
            "       [-0.52454721],\n",
            "       [ 0.67321959],\n",
            "       [-0.97381235],\n",
            "       [ 0.16827032],\n",
            "       [ 0.60860765]])] \n",
            "\n",
            "peso neurona vacia  [array([-0.28368652, -0.08180608,  0.04067154,  0.3984017 ,  0.34561398,\n",
            "        0.23757913]), array([0.03162424])] \n",
            "\n",
            "error 0.0451082771193979 \n",
            "\n"
          ],
          "name": "stdout"
        }
      ]
    },
    {
      "cell_type": "code",
      "metadata": {
        "colab": {
          "base_uri": "https://localhost:8080/",
          "height": 167
        },
        "id": "wtQ2ycUKHspv",
        "outputId": "0a162e64-c61d-4aaa-99e7-c33aad1c5a29"
      },
      "source": [
        "#grafica de aprendizaje (x= # iteraciones, y= error)\n",
        "plt.figure()\n",
        "plt.subplot(211)\n",
        "plt.plot(y_test, color='orange')\n",
        "plt.xlim(4000,4050)\n",
        "plt.plot(res, color='blue')\n",
        "print(res)"
      ],
      "execution_count": null,
      "outputs": [
        {
          "output_type": "stream",
          "text": [
            "[0.00244095 0.25946402 0.5185868  ... 0.53341294 0.63090897 0.31325188]\n"
          ],
          "name": "stdout"
        },
        {
          "output_type": "display_data",
          "data": {
            "image/png": "[encoded data removed]",
            "text/plain": [
              "<Figure size 432x288 with 1 Axes>"
            ]
          },
          "metadata": {
            "tags": [],
            "needs_background": "light"
          }
        }
      ]
    }
  ]
}